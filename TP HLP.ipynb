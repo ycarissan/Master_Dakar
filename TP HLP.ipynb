{
 "cells": [
  {
   "cell_type": "markdown",
   "id": "a1350a3d",
   "metadata": {},
   "source": [
    "# Début du TP HLP\n",
    "\n",
    "<div style=\"background-color:pink;\n",
    "            padding: 5px;\n",
    "border-radius: 5px 5px 5px;\n",
    "border: 0px solid red;\n",
    "padding-left: 25px;\n",
    "position:relative;font-size: 18px;\">\n",
    "    Toutes les questions auxquelles vous devez répondre sont encadrées comme ci-dessous:\n",
    "    </div> <br>\n",
    "<div style=\"background-color:lavender;\n",
    "            padding: 5px;\n",
    "border-radius: 5px 5px 5px;\n",
    "border: 3px solid DodgerBlue;\n",
    "padding-left: 25px;\n",
    "position:relative;font-size: 18px;\">\n",
    "Entrez vos noms ci-dessous:\n",
    "    </div>"
   ]
  },
  {
   "cell_type": "raw",
   "id": "8687b69a",
   "metadata": {},
   "source": [
    "Nom:\n",
    "Prénom:\n",
    "\n",
    "Nom:\n",
    "Prénom:\n"
   ]
  },
  {
   "cell_type": "markdown",
   "id": "b1123fa9",
   "metadata": {},
   "source": [
    "## Résumé\n",
    "Dans le cadre de ce TP, nous allons déterminer quelles sont les structures localisées qui jouent un rôle dans la délocalisation électronique de molécules simples par la méthode de Hückel grâce au logiciel HuLiS (mais tout autre logiciel Hückel ferait l'affaire).  <a href=\"https://amupod.univ-amu.fr/video/0208-huckel-exemple-du-butadiene/\">Tutoriel rapide de Hulis</a>\n",
    "# Introduction\n",
    "La délocalisation électronique peut être décrite comme due à la superposition d'états électroniques localisés.\n",
    "En effet, le premier principe de la mécanique quantique nous dit que si un système physique peut être décrit par $N$ états $\\psi_i$, alors la fonction $\\Psi$  décrivant totalement le système est une combinaison linéaire de tous ces états. On note:\n",
    "$$ \\Psi = \\sum_{i=1}^{N}c_i\\psi_i \\; \\; (1)$$\n",
    "\\end{align}\n",
    "La probabilité de chacun des états $\\psi_i$ est $w_i=c_i^2$.\n",
    "La somme des $w_i$ doit être égale à 100%, c'est-à-dire 1 :\n",
    "$$\\sum_{i=1}^N w_i = 1 \\; \\;  (2)$$\n",
    "\n",
    "# Cas du butadiène\n",
    "## Visualisation des orbitales moléculaires $\\pi$ occupées (calcul DFT)"
   ]
  },
  {
   "cell_type": "code",
   "execution_count": 1,
   "id": "479f1362",
   "metadata": {},
   "outputs": [
    {
     "data": {
      "application/vnd.jupyter.widget-view+json": {
       "model_id": "c1322c1580414cec9c29d6a24aab8ddc",
       "version_major": 2,
       "version_minor": 0
      },
      "text/plain": [
       "JsmolView(layout=Layout(align_self='stretch', height='400px'))"
      ]
     },
     "metadata": {},
     "output_type": "display_data"
    }
   ],
   "source": [
    "from jupyter_jsmol import JsmolView\n",
    "view1 = JsmolView.from_file(\"butadiene.molden\", inline=False) \n",
    "view1"
   ]
  },
  {
   "cell_type": "markdown",
   "id": "78373ca4",
   "metadata": {},
   "source": [
    "<div style=\"background-color:lavender;\n",
    "            padding: 5px;\n",
    "border-radius: 5px 5px 5px;\n",
    "border: 3px solid DodgerBlue;\n",
    "padding-left: 25px;\n",
    "position:relative;font-size: 18px;\">\n",
    "Modifier la ligne ci-dessous pour visualiser l'orbitale HOMO.<br>\n",
    "(Pour voir la i<sup>ème</sup> orbitale moléculaire, remplacer 'mo 1' par 'mo i'.)   </div> <br>"
   ]
  },
  {
   "cell_type": "code",
   "execution_count": 2,
   "id": "294ffbbb",
   "metadata": {},
   "outputs": [],
   "source": [
    "view1.script('mo 1')"
   ]
  },
  {
   "cell_type": "markdown",
   "id": "979e787c",
   "metadata": {},
   "source": [
    "<div style=\"background-color:lavender;\n",
    "            padding: 5px;\n",
    "border-radius: 5px 5px 5px;\n",
    "border: 3px solid DodgerBlue;\n",
    "padding-left: 25px;\n",
    "position:relative;font-size: 18px;\">\n",
    "Modifier la ligne ci-dessous pour visualiser l'orbitale HOMO-1.<br>\n",
    "(Pour voir la i<sup>ème</sup> orbitale moléculaire, remplacer 'mo 1' par 'mo i'.)</div> <br>"
   ]
  },
  {
   "cell_type": "code",
   "execution_count": 3,
   "id": "21f63210",
   "metadata": {},
   "outputs": [],
   "source": [
    "view1.script('mo 1')"
   ]
  },
  {
   "cell_type": "markdown",
   "id": "01e08b94",
   "metadata": {},
   "source": [
    "<div style=\"background-color:lavender;\n",
    "            padding: 5px;\n",
    "border-radius: 5px 5px 5px;\n",
    "border: 3px solid DodgerBlue;\n",
    "padding-left: 25px;\n",
    "position:relative;font-size: 18px;\">\n",
    "À partir des orbitales moléculaires $\\pi$ que vous venez de visualiser, qu'en déduisez-vous sur la nature locale des liaisons $\\pi$. Sont-elles délocalisées ou localisées?    </div> <br>"
   ]
  },
  {
   "cell_type": "markdown",
   "id": "3c6cad11",
   "metadata": {},
   "source": [
    "TAPER VOTRE REPONSE ICI"
   ]
  },
  {
   "cell_type": "markdown",
   "id": "c88bf13a",
   "metadata": {},
   "source": [
    "## Les orbitales moléculaires $\\pi$ dans le cadre de la théorie de Hückel\n",
    "### Rappels sur la méthode de Hückel\n",
    "#### $\\alpha$ et $\\beta$\n",
    "La méthode de Hückel est basée sur la connectivité des atomes de carbones uniquement (il existe une version prenant en compte les hétéroatomes que nous n'aborderons pas ici). On ne prend pas en compte les hydrogènes et on ne considère que les électrons $p$ des carbones. Dans les molécules, ces électrons occupent les orbitrales $\\pi$ obtenues par combinaison des orbitales $2p_z$ des carbones $sp^2$.\n",
    "L'énergie des orbiales $2p_z$ des atomes de carbone est appelée $\\alpha$.\n",
    "Lorsque deux orbitales $2p_z$ de deux carbones adjacents interagissent, le gain énergétique dû à cette interaction est appelé $\\beta$. Par convention, comme c'est un gain énergétique, __la valeur de $\\beta$ est négative__. Ainsi, les orbitales de l'éthylène sont aux énergies $\\alpha+\\beta$ pour l'orbitale liante et $\\alpha-\\beta$ pour l'orbitale antiliante.\n",
    "### Structures localisées et délocalisées\n",
    "Comme vous l'avez vu ci-dessus, les orbitales moléculaires $\\pi$ sont délocalisées sur tous les atomes de carbone, $\\phi_{deloc}$:\n",
    "![butadiene délocalisé](img/butadiene_deloc.png)\n",
    "#### Une seule structure localisée\n",
    "Le système $\\pi$ est facilement interprétable en utilisant une vision localisée du système $\\pi$: on peut décrire le butadiène comme l'aternance de liaisons double-simple-double (DSD), $\\phi_{DSD}$:\n",
    "![butadiene localisé](img/butadiene_DSD.png)\n",
    "\n",
    "En reprenant l'équation (1), on peut écrire :\n",
    "\n",
    "$$\\phi_{deloc} = c_1 \\phi_{DSD} + \\sum_{i=1}^N c_i\\phi_i \\; (3)$$\n",
    "\n",
    "les $\\phi_i$ étant les fonctions d'ondes nécessaires à décrire entièrement le système délocalisé (mais qu'on ne connait pas).\n",
    "\n",
    "Pour calculer le poids de $\\phi_{DSD}$ dans $\\phi_{deloc}$, on néglige les $\\phi_i$ et on multiplie (3) à gauche par $\\left<\\phi_{DSD}\\right|$ :\n",
    "\n",
    "$$\\left<\\phi_{DSD}\\right|\\left.\\phi_{deloc}\\right> = c_1$$\n",
    "puis:\n",
    "$$w_{DSD} = \\left<\\phi_{DSD}\\right|\\left.\\phi_{deloc}\\right>^2$$\n"
   ]
  },
  {
   "cell_type": "markdown",
   "id": "93f99aa0",
   "metadata": {},
   "source": [
    "<div style=\"background-color:lavender;\n",
    "            padding: 5px;\n",
    "border-radius: 5px 5px 5px;\n",
    "border: 3px solid DodgerBlue;\n",
    "padding-left: 25px;\n",
    "position:relative;font-size: 18px;\">\n",
    "En utilisant le programme Hulis, calculer le poids $w_{DSD}$ dans $\\phi_{deloc}$. Pour cela, vous pourrez suivre le tutoriel qui se trouve <a href=\"https://amupod.univ-amu.fr/video/24935-tutoriel-hlp/\">ici</a>.</div>"
   ]
  },
  {
   "cell_type": "markdown",
   "id": "772cb061",
   "metadata": {},
   "source": [
    "Le poids de la structure DSD dans le cas à une seule structure localisée ayant deux liaisons doubles est :\n",
    "\n",
    "w=    %"
   ]
  },
  {
   "cell_type": "markdown",
   "id": "ed743e4b",
   "metadata": {},
   "source": [
    "#### Plusieurs structures localisées\n",
    "Dans le cas de plusieurs structures localisées, il faut prendre en compte le fait que ces structures ne sont pas orthogonales entre elles.\n",
    "Le calcul des poids de chaque structure fait alors intervenir leur matrice de recouvrement:\n",
    "\\begin{align}\n",
    "\\phi_{deloc} & = \\sum_i^N c_i\\phi_i \\\\\n",
    "\\left<\\phi_j\\right|\\left.\\phi_{deloc}\\right> & = \\sum_{i}^N c_i\\left<\\phi_j\\right|\\left.\\phi_i\\right> \\\\\n",
    "V & = C S_{ij}\n",
    "\\end{align}\n",
    "avec $V$ le vecteur des recouvrements de chaque structure localisée avec la structure délocalisée, $C$ le vecteur contenant les coefficients $c_i$ et $S_{ij}$ la matrice de recouvrement entre structures localisées.\n",
    "On calcule alors les $C$:\n",
    "\\begin{align}\n",
    "C = V S^{-1}_{ij} \\; (4)\n",
    "\\end{align}\n",
    "\n",
    "Le poids de chauqe structure localisée est calculé via la formule de Coulson-Chirgwin:\n",
    "$$ w_j = c_j\\sum_i c_iS_{ij} \\; (5)$$\n",
    "\n",
    "Maintenant, on cherche à faire le même calcul en utilisant plusieurs structures de Lewis.\n",
    "Vous ferez le calcul avec les structures suivantes:\n",
    "![](img/quatre_structures.png)\n",
    "<br>\n",
    "<div style=\"background-color:pink;\n",
    "            padding: 5px;\n",
    "border-radius: 5px 5px 5px;\n",
    "border: 0px solid red;\n",
    "padding-left: 25px;\n",
    "position:relative;font-size: 18px;\">\n",
    "    Lors du dessin de la structure IV, un trait apparaît entre les deux électrons célibataires. C'est pour signifier qu'ils sont couplés en singulet.</div>"
   ]
  },
  {
   "cell_type": "markdown",
   "id": "11c1c0a0",
   "metadata": {},
   "source": [
    "<div style=\"background-color:lavender;\n",
    "            padding: 5px;\n",
    "border-radius: 5px 5px 5px;\n",
    "border: 3px solid DodgerBlue;\n",
    "padding-left: 25px;\n",
    "position:relative;font-size: 18px;\">\n",
    "Remplir avec les poids de chaque structure :</div>"
   ]
  },
  {
   "cell_type": "markdown",
   "id": "0577cb24",
   "metadata": {},
   "source": [
    "wI   =    %\n",
    "\n",
    "wII  =    %\n",
    "\n",
    "wIII =    %\n",
    "\n",
    "wIV  =    %\n",
    "\n",
    "Taux de confiance=    %"
   ]
  },
  {
   "cell_type": "markdown",
   "id": "c1443087",
   "metadata": {},
   "source": [
    "# Cas de l'acroléine\n",
    "![L'acroleine](img/acroleine_deloc.png)\n",
    "\n",
    "On ce propose de décomposer la structure délocalisée de cette molécule sur les strutures localisées suivantes:\n",
    "![Ensemble de structures localisées](img/quatre_structures_acro.png)"
   ]
  },
  {
   "cell_type": "markdown",
   "id": "f18e2227",
   "metadata": {},
   "source": [
    "<div style=\"background-color:lavender;\n",
    "            padding: 5px;\n",
    "border-radius: 5px 5px 5px;\n",
    "border: 3px solid DodgerBlue;\n",
    "padding-left: 25px;\n",
    "position:relative;font-size: 18px;\">Utiliser les ensemble de structures localisées suivants et donner les poids et les coefficient de confiance correspondants:</div>"
   ]
  },
  {
   "cell_type": "markdown",
   "id": "623fa363",
   "metadata": {},
   "source": [
    "## Ensemble 1 : I, II, III"
   ]
  },
  {
   "cell_type": "markdown",
   "id": "6fe62f8a",
   "metadata": {},
   "source": [
    "wI   =    %\n",
    "\n",
    "wII  =    %\n",
    "\n",
    "wIII =    %\n",
    "\n",
    "Taux de confiance=    %"
   ]
  },
  {
   "cell_type": "markdown",
   "id": "bfd01476",
   "metadata": {},
   "source": [
    "## Ensemble 2 : II, III, IV"
   ]
  },
  {
   "cell_type": "markdown",
   "id": "ff45a591",
   "metadata": {},
   "source": [
    "wII  =    %\n",
    "\n",
    "wIII =    %\n",
    "\n",
    "wIV  =    %\n",
    "\n",
    "Taux de confiance=    %"
   ]
  },
  {
   "cell_type": "markdown",
   "id": "f5015ee3",
   "metadata": {},
   "source": [
    "## Ensemble 3 : I, II, III, IV"
   ]
  },
  {
   "cell_type": "markdown",
   "id": "7e360bd4",
   "metadata": {},
   "source": [
    "wI   =    %\n",
    "\n",
    "wII  =    %\n",
    "\n",
    "wIII =    %\n",
    "\n",
    "wIV  =    %\n",
    "\n",
    "Taux de confiance=    %"
   ]
  },
  {
   "cell_type": "markdown",
   "id": "8a0a5476",
   "metadata": {},
   "source": [
    "<div style=\"background-color:lavender;\n",
    "            padding: 5px;\n",
    "border-radius: 5px 5px 5px;\n",
    "border: 3px solid DodgerBlue;\n",
    "padding-left: 25px;\n",
    "position:relative;font-size: 18px;\">\n",
    "   Commenter les différences de taux de confiance pour chaque ensemble (1, 2 et 3).</div>"
   ]
  },
  {
   "cell_type": "markdown",
   "id": "8ccf0c96",
   "metadata": {},
   "source": [
    "TAPER VOTRE REPONSE ICI"
   ]
  },
  {
   "cell_type": "markdown",
   "id": "c5f3b9ae",
   "metadata": {},
   "source": [
    "<div style=\"background-color:lavender;\n",
    "            padding: 5px;\n",
    "border-radius: 5px 5px 5px;\n",
    "border: 3px solid DodgerBlue;\n",
    "padding-left: 25px;\n",
    "position:relative;font-size: 18px;\">\n",
    "   Commenter les différences de poids de structures pour chaque ensemble (1, 2 et 3).</div>"
   ]
  },
  {
   "cell_type": "markdown",
   "id": "63e6b6b6",
   "metadata": {},
   "source": [
    "TAPER VOTRE REPONSE ICI"
   ]
  },
  {
   "cell_type": "raw",
   "id": "e108945d",
   "metadata": {},
   "source": [
    "Calcul du butadiene\n",
    "\n",
    "import psi4\n",
    "butadiene = psi4.geometry(\"\"\"\n",
    "    10\n",
    "\n",
    "6         -3.85629       -0.95486       -0.05633\n",
    "6         -2.52378       -0.98518       -0.13813\n",
    "6         -1.72765        0.25205       -0.00581\n",
    "6         -0.39493        0.22121       -0.08394\n",
    "1         -4.42601       -1.87314       -0.15552\n",
    "1         -4.38473       -0.02068        0.10937\n",
    "1         -2.02466       -1.93599       -0.30405\n",
    "1         -2.22691        1.20321        0.15772\n",
    "1          0.13370       -0.71345       -0.24627\n",
    "1          0.17481        1.13943        0.01569\n",
    "\"\"\")\n",
    "e, wfn = psi4.energy(\"b3lyp/6-31G\", return_wfn=True)\n",
    "#psi4.cubeprop(wfn)\n"
   ]
  }
 ],
 "metadata": {
  "kernelspec": {
   "display_name": "Python 3 (ipykernel)",
   "language": "python",
   "name": "python3"
  },
  "language_info": {
   "codemirror_mode": {
    "name": "ipython",
    "version": 3
   },
   "file_extension": ".py",
   "mimetype": "text/x-python",
   "name": "python",
   "nbconvert_exporter": "python",
   "pygments_lexer": "ipython3",
   "version": "3.9.7"
  }
 },
 "nbformat": 4,
 "nbformat_minor": 5
}
