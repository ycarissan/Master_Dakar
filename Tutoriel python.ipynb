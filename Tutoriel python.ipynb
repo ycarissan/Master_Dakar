{
 "cells": [
  {
   "cell_type": "code",
   "execution_count": 1,
   "id": "0f58a622",
   "metadata": {},
   "outputs": [
    {
     "name": "stdout",
     "output_type": "stream",
     "text": [
      "bonjour\n"
     ]
    }
   ],
   "source": [
    "#Commentaire Premier exemple\n",
    "print(\"bonjour\")"
   ]
  },
  {
   "cell_type": "code",
   "execution_count": 2,
   "id": "2bd709dc",
   "metadata": {},
   "outputs": [
    {
     "name": "stdout",
     "output_type": "stream",
     "text": [
      "Valeur propre: -1.9999999999999991 Vecteur propre: [ 0.40824829 -0.40824829 -0.57735027  0.57732307  0.06604706  0.09791921]\n",
      "Valeur propre: 1.9999999999999991 Vecteur propre: [-0.40824829 -0.40824829 -0.28867513 -0.29351503 -0.5297411  -0.4437968 ]\n",
      "Valeur propre: 0.9999999999999996 Vecteur propre: [ 0.40824829 -0.40824829  0.28867513 -0.28380804  0.46369403 -0.54171601]\n",
      "Valeur propre: -1.0 Vecteur propre: [-0.40824829 -0.40824829  0.57735027  0.57732307  0.06604706 -0.09791921]\n",
      "Valeur propre: -0.9999999999999996 Vecteur propre: [ 0.40824829 -0.40824829  0.28867513 -0.29351503 -0.5297411   0.4437968 ]\n",
      "Valeur propre: 0.9999999999999999 Vecteur propre: [-0.40824829 -0.40824829 -0.28867513 -0.28380804  0.46369403  0.54171601]\n",
      "\n",
      "Sortie mise en forme:\n",
      "\n",
      "---\n",
      "Valeur propre:  -2.000\n",
      "Vecteur propre\n",
      " +0.408\n",
      " -0.408\n",
      " -0.577\n",
      " +0.577\n",
      " +0.066\n",
      " +0.098\n",
      "---\n",
      "Valeur propre:  +2.000\n",
      "Vecteur propre\n",
      " -0.408\n",
      " -0.408\n",
      " -0.289\n",
      " -0.294\n",
      " -0.530\n",
      " -0.444\n",
      "---\n",
      "Valeur propre:  +1.000\n",
      "Vecteur propre\n",
      " +0.408\n",
      " -0.408\n",
      " +0.289\n",
      " -0.284\n",
      " +0.464\n",
      " -0.542\n",
      "---\n",
      "Valeur propre:  -1.000\n",
      "Vecteur propre\n",
      " -0.408\n",
      " -0.408\n",
      " +0.577\n",
      " +0.577\n",
      " +0.066\n",
      " -0.098\n",
      "---\n",
      "Valeur propre:  -1.000\n",
      "Vecteur propre\n",
      " +0.408\n",
      " -0.408\n",
      " +0.289\n",
      " -0.294\n",
      " -0.530\n",
      " +0.444\n",
      "---\n",
      "Valeur propre:  +1.000\n",
      "Vecteur propre\n",
      " -0.408\n",
      " -0.408\n",
      " -0.289\n",
      " -0.284\n",
      " +0.464\n",
      " +0.542\n"
     ]
    }
   ],
   "source": [
    "#on import les bibliothèques dont on a besoin\n",
    "import numpy\n",
    "import scipy.linalg\n",
    "\n",
    "#On crée une matrice comme une liste [] de lignes (elles mêmes sont des listes [] de nombres)\n",
    "# NB pour ajouter un élément à une liste, on utilise la fonction append\n",
    "# exple : \n",
    "# a=[]             # a est une liste\n",
    "# a.append(5)      # on ajoute l'élément de valeur 5 à la liste a\n",
    "# a.append(\"rrr\")  # on ajoute l'élément de valeur \"rrr\" à la liste a\n",
    "# print(a)         # on affiche la liste a\n",
    "# [5, 'rrr']\n",
    "\n",
    "mat=[]\n",
    "mat.append([0, 1, 0, 0, 0, 1])  # ligne 1\n",
    "mat.append([1, 0, 1, 0, 0, 0])  # ligne 2\n",
    "mat.append([0, 1, 0, 1, 0, 0])\n",
    "mat.append([0, 0, 1, 0, 1, 0])\n",
    "mat.append([0, 0, 0, 1, 0, 1])\n",
    "mat.append([1, 0, 0, 0, 1, 0])  # ligne 6\n",
    "\n",
    "# Pour pouvoir faire des opérations mathématiques sur la matrice que l'on vient de créer,\n",
    "# on la transforme en \"vraie\" matrice\n",
    "mat = numpy.matrix(mat)\n",
    "\n",
    "# Maintenant, on peut calculer les valeurs propres de la matrice\n",
    "# et ses vecteurs propres :\n",
    "valp, vecp = scipy.linalg.eig(mat)    # on récupère une liste de valeurs propres et une liste de vecteurs propres\n",
    "                                    # en un seul appel!\n",
    "for i in range(len(valp)):  # i prend toutes les valeurs entre 0 et N-1, N étant le nombre de valeurs propres\n",
    "    print(\"Valeur propre:\", valp[i].real, \"Vecteur propre:\", vecp[i])\n",
    "\n",
    "print(\"\\nSortie mise en forme:\\n\")\n",
    "#On peut faire un affichage plus lisible:\n",
    "for i in range(len(valp)):  # i prend toutes les valeurs entre 0 et N-1, N étant le nombre de valeurs propres\n",
    "    print(\"---\\nValeur propre: {:+7.3f}\\nVecteur propre\".format(valp[i].real))\n",
    "    for j in range(len(vecp[i])):  #j prend toutes les valeurs entre 0 et M-1, M étant le nombre d'éléments de vecp\n",
    "                   print(\"{:+7.3f}\".format(vecp[i][j]))"
   ]
  }
 ],
 "metadata": {
  "kernelspec": {
   "display_name": "Python 3 (ipykernel)",
   "language": "python",
   "name": "python3"
  },
  "language_info": {
   "codemirror_mode": {
    "name": "ipython",
    "version": 3
   },
   "file_extension": ".py",
   "mimetype": "text/x-python",
   "name": "python",
   "nbconvert_exporter": "python",
   "pygments_lexer": "ipython3",
   "version": "3.9.7"
  }
 },
 "nbformat": 4,
 "nbformat_minor": 5
}
