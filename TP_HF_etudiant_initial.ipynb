{
 "cells": [
  {
   "cell_type": "code",
   "execution_count": null,
   "metadata": {},
   "outputs": [],
   "source": [
    "\"\"\"Hartree-Fock Procedure for Approximate Quantum Chemistry\"\"\"\n",
    "\n",
    "__authors__ = [\"Ashley Ringer McDonald\",\"Dominic A. Sirianni\", \"Tricia D. Shepherd\", \"Sean Garrett-Roe\"]\n",
    "__email__   = [\"armcdona@calpoly.edu\", \"sirianni.dom@gmail.com\", \"profshep@icloud.com\", \"sgr@pitt.edu\"]\n",
    "__credits__ = [\"Daniel G.A. Smith\"]\n",
    "__copyright__ = \"(c) 2008-2020, The Psi4Education Developers\"\n",
    "__license__   = \"BSD-3-Clause\"\n",
    "__date__      = \"2020-07-28\""
   ]
  },
  {
   "cell_type": "raw",
   "metadata": {},
   "source": [
    "## Méthode Hartree-Fock"
   ]
  },
  {
   "cell_type": "code",
   "execution_count": null,
   "metadata": {},
   "outputs": [],
   "source": [
    "import psi4\n",
    "import numpy as np\n",
    "from scipy import linalg as splinalg"
   ]
  },
  {
   "cell_type": "markdown",
   "metadata": {},
   "source": [
    "Dans ce TP, vous allez construire et diagonaliser la matrice de Fock afin de déterminer les coefficients \n",
    "et les énergies des OM d'une molécule. Nous utiliserons les fonctions du logiciel de chimie quantique \n",
    "Psi4 pour calculer les intégrales dont nous avons besoin.  \n",
    "Le carnet de notes suivant vous guidera dans la configuration de votre molécule, \n",
    "l'établissement de la base, la génération et la diagonalisation de la matrice de Fock. \n",
    "Assurez-vous d'exécuter chaque cellule au fur et à mesure que vous avancez dans le carnet de notes.\n",
    "\n",
    "# I. La procédure Hartree-Fock\n",
    "L'équation de Schrödinger a la structure d'une équation aux valeurs propres :\n",
    "\n",
    "$$\\hat{H}|\\psi\\rangle = E|\\psi\\rangle$$\n",
    "\n",
    "Dans la théorie Hartree-Fock, elle est réexprimée en termes de matrice de Fock, $F$, de matrice d'amplitudes de fonction d'onde pour chaque MO, $C$, et de matrice de recouvrement, $S$,\n",
    "\n",
    "$$FC = SCE.\\qquad(\\text{2})$$\n",
    "\n",
    "La matrice de Fock d'un système à couche fermée est la suivante :\n",
    "$$\n",
    "F = H + 2J - K\n",
    "$$\n",
    "\n",
    "où $H$ est l'hamiltonien du \"noyau\" à un électron, $J$ est la matrice intégrale de Coulomb et $K$ est la matrice intégrale d'échange. Les définitions de $J$ et $K$ dépendent des coefficients, $C$. Nous voyons ici le principe central de la procédure SCF (Self-Consistent-Field) : pour obtenir la matrice de Fock, nous avons besoin de la matrice des coefficients, mais pour calculer la matrice des coefficients, nous avons besoin de la matrice de Fock. Lorsque $S$ n'est pas égal à la matrice d'identité (c'est-à-dire que la base n'est pas orthonormée), il s'agit alors d'un problème de pseudo-valeur propre qui est encore plus difficile à résoudre. C'est le but de ce TP.\n",
    "\n",
    "Nous allons :\n",
    "- revoir la notation de Dirac \n",
    "- introduire la matrice de recouvrement \n",
    "- apprendre à construire une matrice d'orthogonalisation\n",
    "- apprendre à calculer la densité\n",
    "- apprendre à calculer les matrices intégrales de Coulomb et d'échange\n",
    "- apprendre à diagonaliser la matrice de Fock\n",
    "- construire une procédure itérative pour faire converger l'énergie HF"
   ]
  },
  {
   "cell_type": "markdown",
   "metadata": {},
   "source": [
    "# II. Orthogonalisation de la base d'Orbitales Atomiques (OA)"
   ]
  },
  {
   "cell_type": "markdown",
   "metadata": {},
   "source": [
    "Petit rappel sur la notation de Dirac :\n",
    "\n",
    "La fonction d'onde, $\\psi(x)$ peut être représentée comme un *vecteur colonne*, $|\\psi\\rangle$ . Le conjugué complexe de la fonction d'onde, $\\psi^*(x)$ est également représenté par un vecteur qui est le transposé du conjugué complexe de $|\\psi\\rangle$. \n",
    "\n",
    "\\begin{align}\n",
    "\\psi(x)&\\rightarrow|\\psi\\rangle\\quad\\text{column vector}\\\\\n",
    "\\psi^*(x)&\\rightarrow\\langle\\psi|\\quad\\text{row vector}\n",
    "\\end{align}\n",
    "\n",
    "La normalisation d'une fonction d'onde $\\psi(x)$ s'écrit comme une intégrale\n",
    "\n",
    "$$\\int\\psi^*(x)\\psi(x)\\;\\mathrm{d}x=1.$$\n",
    "\n",
    "En notation de Dirac, elle est remplacée par une équation vectorielle\n",
    "\n",
    "$$\\langle\\psi|\\psi\\rangle=1.$$\n",
    "\n",
    "L'orthogonalité de deux fonctions d'onde, $\\psi_i(x)$ et $\\psi_j(x)$, qui, en notation intégrale, s'écrit \n",
    "\n",
    "$$\\int\\psi_i^*(x)\\psi_j(x)\\;\\mathrm{d}x=0,$$\n",
    "\n",
    "devient, en notation de Dirac,\n",
    "\n",
    "$$\\langle\\psi_i|\\psi_j\\rangle=0.$$\n",
    " \n",
    "### Calcul : \n",
    "Définissez deux vecteurs, `phi1` et `phi2`, avec deux composantes chacun, qui sont normalisés, dans le sens $\\langle\\phi_i|\\phi_i\\rangle=1$, et orthogonaux dans le sens que $\\langle\\phi_i|\\phi_j\\rangle=0$. On définit un vecteur `v` avec les deux éléments `1` et `2` par la commande `v=np.array([1,2])`."
   ]
  },
  {
   "cell_type": "code",
   "execution_count": null,
   "metadata": {},
   "outputs": [],
   "source": [
    "# define a first basis vector and a second, orthogonal vector\n",
    "phi1 = #<entrer votre formule ici>\n",
    "phi2 = #<entrer votre formule ici>\n",
    "\n",
    "print(F'Phi1: {phi1}')\n",
    "print(F'Phi2: {phi2}')\n",
    "print()#empty line\n",
    "print(F'Produit scalaire : {phi1.dot(phi2)}')"
   ]
  },
  {
   "cell_type": "markdown",
   "metadata": {},
   "source": [
    "Note : Les commandes Numpy pour les opérations vectorielles supposent que `v`= vecteur :\n",
    "\n",
    "produit interne (produit scalaire) de deux vecteurs : `v.dot(v)`\n",
    "\n",
    "conjugué complexe d'un vecteur : `v.conj()`\n",
    "\n",
    "Produit interne de $v^\\dagger v$ : `v.conj().dot(v)`\n",
    "\n",
    "\n",
    "### Calcul : \n",
    "Utilisez les commandes ci-dessus pour montrer que `phi1` est normalisé."
   ]
  },
  {
   "cell_type": "code",
   "execution_count": null,
   "metadata": {},
   "outputs": [],
   "source": [
    "# Normalisation de phi1\n",
    "\n",
    "phi1_norm = #<entrer votre formule ici>\n",
    "\n",
    "print(F'<phi1|phi1> = {phi1_norm}')"
   ]
  },
  {
   "cell_type": "markdown",
   "metadata": {},
   "source": [
    "### Calcul : \n",
    "De même, entrez les trois calculs restants ci-dessous pour montrer que `phi1` et `phi2` sont orthonormés."
   ]
  },
  {
   "cell_type": "code",
   "execution_count": null,
   "metadata": {},
   "outputs": [],
   "source": [
    "# Normalisation de phi2\n",
    "\n",
    "print(F'<phi2|phi2> = {}')\n",
    "\n",
    "# Orthogonalité\n",
    "\n",
    "print(F'<phi1|phi2> = {}')\n",
    "\n",
    "print(F'<phi2|phi1> = {}')"
   ]
  },
  {
   "cell_type": "markdown",
   "metadata": {},
   "source": [
    "## III. Intégrales de recouvrement\n",
    "Pour un ensemble de fonctions de base, $\\phi_i(\\tau)$, où $\\tau$ désigne toutes les coordonnées de toutes les particules, nous pouvons calculer les intégrales de recouvrement entre les fonctions de base de la manière suivante\n",
    "\n",
    "$$S_{ij}=\\int {\\rm d}\\tau\\; \\phi_i^*(\\tau)\\phi_j(\\tau).$$\n",
    "\n",
    "#### Question :  définissez $S_{ij}$ en utilisant la notation de Dirac"
   ]
  },
  {
   "cell_type": "markdown",
   "metadata": {},
   "source": [
    "**Réponse :** "
   ]
  },
  {
   "cell_type": "markdown",
   "metadata": {},
   "source": [
    "#### Question :  pour une base orthonormée, à quoi ressemble la matrice des intégrales de recouvrement, `S` ?"
   ]
  },
  {
   "cell_type": "markdown",
   "metadata": {},
   "source": [
    "**Réponse :** "
   ]
  },
  {
   "cell_type": "markdown",
   "metadata": {},
   "source": [
    "### Calculer les termes `S_ij` en utilisant les vecteurs de base `phi1` et `phi2`. "
   ]
  },
  {
   "cell_type": "code",
   "execution_count": null,
   "metadata": {},
   "outputs": [],
   "source": [
    "# calculate the overlap (inner product) of the vectors \n",
    "S_11 = #<entrer votre formule ici>\n",
    "S_12 = \n",
    "S_21 =  \n",
    "S_22 = \n",
    "print('Les éléments ij de S:')\n",
    "print(S_11,S_12)\n",
    "print(S_21,S_22)\n",
    "print()\n"
   ]
  },
  {
   "cell_type": "markdown",
   "metadata": {},
   "source": [
    "## IV. Construction de la matrice de recouvrement\n",
    "Ces intégrales de recouvrement, $S_{ij}$, peuvent être interprétées comme les éléments de la $i$ème ligne et de la $j$ème colonne d'une matrice, $S$. Soit une matrice, $S$, constituée des intégrales de recouvrement $S_{ij}$. Nous pouvons construire $S$ systématiquement de la manière suivante. D'abord, construisons une matrice, $B$, composée de nos vecteurs de base comme colonnes,\n",
    "\n",
    "$$ B = \\left(\\begin{array}{ccc}|& |&|\\\\ \\phi_1 &\\phi_2&\\phi_3\\\\|&|&|\\end{array}\\right).$$\n",
    "\n",
    "Nous utiliserons le symbole $\\dagger$ pour indiquer le conjugué complexe de la transposée d'une matrice. Ainsi,\n",
    "\n",
    "$$B^\\dagger = (B^T)^*.$$"
   ]
  },
  {
   "cell_type": "code",
   "execution_count": null,
   "metadata": {},
   "outputs": [],
   "source": [
    "# constructino de la matrice de recouvrement à partir de la matrice des vecteurs de base\n",
    "vector_length = phi1.size #dimension de l'espace vectoriel\n",
    "phi1_column = phi1.reshape(vector_length,1) #cela transforme phi1 en vecteur colonne\n",
    "phi2_column = phi2.reshape(vector_length,1)\n",
    "\n",
    "# rassembler (concaténer) les vecteurs dans la matrice B\n",
    "B = np.concatenate((phi1_column,phi2_column),axis=1)\n",
    "print(F'La matrice B:\\n{B}')\n",
    "\n",
    "B_dagger = B.conj().T\n",
    "print(F'La matrice B^\\dagger:\\n{B_dagger}')"
   ]
  },
  {
   "cell_type": "markdown",
   "metadata": {},
   "source": [
    "Maintenant, en multipliant les lignes de $B^\\dagger$ par les colonnes de $B$ (multiplication matricielle normale), on obtient une matrice des intégrales de recouvrement aux emplacements corrects. Nous avons défini la matrice $S$.\n",
    "\n",
    "$$B^\\dagger B =\\left(\\begin{array}{ccc}-& \\phi_1^*&-\\\\-& \\phi_2^* &-\\\\-&\\phi_3&-\\end{array}\\right) \\left(\\begin{array}{ccc}|& |&|\\\\ \\phi_1 &\\phi_2&\\phi_3\\\\|&|&|\\end{array}\\right)\\equiv S.$$"
   ]
  },
  {
   "cell_type": "markdown",
   "metadata": {},
   "source": [
    "Remarque : les commandes Numpy pour les opérations matricielles supposent que `v` = vecteur, et `M` = matrice :\n",
    "\n",
    "produit vectoriel matriciel : `M.dot(v)`\n",
    "\n",
    "Produit matriciel de la matrice : `M.dot(M)`\n",
    "\n",
    "Conjugué complexe de la matrice : `M.conj()`\n",
    "\n",
    "transposée de la matrice : `M.T`"
   ]
  },
  {
   "cell_type": "markdown",
   "metadata": {},
   "source": [
    "### Calcul : \n",
    "Utilisez `B` et `B_dagger` et les règles matricielles ci-dessus pour calculer la matrice `S`."
   ]
  },
  {
   "cell_type": "code",
   "execution_count": null,
   "metadata": {},
   "outputs": [],
   "source": [
    "# calcul de S à partir de la matrice des vecteurs de base\n",
    "S = #<entrer votre formule ici>\n",
    "print(F'La matrice des vecteurs propres en colonne B =\\n {B} \\n\\nand S = B^\\dagger B =\\n{S}\\n')"
   ]
  },
  {
   "cell_type": "markdown",
   "metadata": {},
   "source": [
    "## V. Notation implicite de la somme d'Einstein\n",
    "La multiplication matricielle est définie par\n",
    "\n",
    "$$(AB)_{pq}= \\sum_i A_{p,i}B_{i,q}\\qquad\\text{sommation implicite}$$$\n",
    "\n",
    "Notez qu'il y a un indice répété, $i$, dans la sommation. En notation de sommation implicite, notation d'Einstein, nous n'écrivons pas la $\\sum$ et traitons la sommation comme comprise. \n",
    "\n",
    "$$(AB)_{pq}=A_{p,i}B_{i,q}\\qquad\\text{sommation implicite}$$\n",
    "\n",
    "En utilisant la sommation implicite pour le cas présent, $B^\\dagger B$ donne\n",
    "\n",
    "S_{pq}=(B^\\dagger B)_{pq}= (B^\\dagger)_{p,i}B_{i,q}\\qquadtext{sommation implicite}$$.\n",
    "$$= (B^*)_{i,p}B_{i,q}\\qquad\\text{sommation implicite}$$$\n",
    "\n",
    "où $B^*$ est le conjugué complexe de $B$ (sans transposition). Notez que les deux ensembles d'indices, $(i,p)$ et $(i,q)$, dans les matrices d'entrée deviennent un seul ensemble, $(p,q)$, dans le produit. \n",
    "\n",
    "*(Petite aparté sur la programmation Python : il existe une fonction pratique dans `numpy` appelée `einsum()`, qui est l'un des joyaux de la bibliothèque numpy.  En bref, `einsum` vous permet d'effectuer diverses combinaisons de multiplications, de sommations et de transpositions de matrices très efficacement.  Un bon tutoriel sur `einsum` peut être trouvé à http://ajcr.net/Basic-guide-to-einsum/.  Pour spécifier les opérations que vous voulez faire, vous utilisez la convention **Ein**stein **Sum**mation.)*\n",
    "\n",
    "Pour calculer la somme \n",
    "\n",
    "$$S_{pq} = (B^*)_{i,p}B_{i,q}\\qquad\\text{sommation implicite}$$$\n",
    "\n",
    "utilisez `S=np.einsum('ip,iq->pq',B.conj(),B)`, comme démontré ci-dessous. Nous allons utiliser `einsum()` à plusieurs endroits.\n",
    "\n",
    "Essayons ceci avec un simple ensemble de base de deux vecteurs (peut-être) orthonormaux."
   ]
  },
  {
   "cell_type": "markdown",
   "metadata": {},
   "source": [
    "#### Question : décrivez comment la notation de la commande `np.einsum` coïncide avec la formule de sommation implicite écrite ci-dessus."
   ]
  },
  {
   "cell_type": "markdown",
   "metadata": {},
   "source": [
    "****Réponse **** "
   ]
  },
  {
   "cell_type": "markdown",
   "metadata": {},
   "source": [
    "### Calcul : \n",
    "Utilisez la fonction `np.einsum()` pour calculer la matrice `S`, et confirmez que votre réponse est la même que ci-dessus."
   ]
  },
  {
   "cell_type": "code",
   "execution_count": null,
   "metadata": {},
   "outputs": [],
   "source": [
    "# calcul de S à partir de la somme d'Einstein \n",
    "S = #<entrer votre formule ici>\n",
    "print(F'S à partir de la notation d'Einstein:\\n{S}')"
   ]
  },
  {
   "cell_type": "markdown",
   "metadata": {},
   "source": [
    "#### Question : Proposez une base orthonormale différente, modifiez `phi1` et `phi2`, et vérifiez que `S` a toujours la même forme. Il y a une infinité de choix possibles. Ce n'est pas complexe... ou *est*-ce que ça l'est ?"
   ]
  },
  {
   "cell_type": "markdown",
   "metadata": {},
   "source": [
    "#### Question : proposez ce qui arrivera à `S` si les vecteurs ne sont pas orthonormés. \n",
    "### Calcul : \n",
    "Tester votre prédiction"
   ]
  },
  {
   "cell_type": "markdown",
   "metadata": {},
   "source": [
    "## VI. Base d'orbitales atomiques Gaussiennes"
   ]
  },
  {
   "cell_type": "markdown",
   "metadata": {},
   "source": [
    "H$_2$O est une molécule petite mais intéressante à utiliser dans notre exploration. \n",
    "\n",
    "#### Question :  Répondez aux questions suivantes pour la molécule H$_2$O :\n",
    "##### Combien d'électrons y a-t-il au total ?\n",
    "##### A combien d'orbitales moléculaires occupées vous attendez-vous ?"
   ]
  },
  {
   "cell_type": "markdown",
   "metadata": {},
   "source": [
    "Avant de commencer à mettre en œuvre la procédure HF, nous devons spécifier la molécule et le jeu de base que nous allons utiliser.  Nous allons également définir l'utilisation de la mémoire pour notre calcul et le nom du fichier de sortie.  "
   ]
  },
  {
   "cell_type": "code",
   "execution_count": null,
   "metadata": {},
   "outputs": [],
   "source": [
    "# ==> Set Basic Psi4 Options <==\n",
    "# Spécification de la mémoire\n",
    "psi4.set_memory('500 MB')\n",
    "numpy_memory = 2 # Aucun tableau NumPy ne peut dépasser 2 MB en taille\n",
    "\n",
    "# nom du fichier de sortie\n",
    "psi4.core.set_output_file('output.dat', False)\n",
    "\n",
    "# on spécifie la base\n",
    "# basis = 'cc-pvdz'\n",
    "basis = 'sto-3g'\n",
    "\n",
    "\n",
    "# On fixe les options du calcul\n",
    "psi4.set_options({'basis': basis,\n",
    "                  'scf_type': 'pk',\n",
    "                  'e_convergence': 1e-8})\n",
    "\n",
    "\n",
    "# ==> Définition de la molécule <==\n",
    "# Définir notre modèle de molécule d'eau\n",
    "# nous allons déformer la molécule plus tard, ce qui peut nécessiter une symétrie C1\n",
    "mol = psi4.geometry(\"\"\"\n",
    "O\n",
    "H 1 1.1\n",
    "H 1 1.1 2 104\n",
    "symmetry c1\n",
    "\"\"\")\n",
    "\n",
    "# calcul d'énergie\n",
    "\n",
    "SCF_E_psi = psi4.energy('scf')\n",
    "psi4.core.clean()\n",
    "\n",
    "print(f\"L'énergie  Hartree-Fock de l'état fondamental de l'eau est : {SCF_E_psi} Eh\")"
   ]
  },
  {
   "cell_type": "markdown",
   "metadata": {},
   "source": [
    "Ensuite, nous devons construire la fonction d'onde à partir des fonctions de base.  Nous stockons la fonction d'onde dans une variable appelée `wfn`. Nous utilisons la fonction `nalpha()` fournie par l'objet fonction d'onde que nous avons créé plus haut, `wfn`, pour déterminer le nombre d'orbitales de spin alpha, qui seront des orbitales doublement occupées pour les systèmes à couche fermée. Nous enregistrons cette réponse comme une variable appelée `ndocc` (nombre d'orbitales doublement occupées).  \n",
    "\n",
    "### Calcul\n",
    "Exécutez le code ci-dessous et confirmez que le nombre d'orbitales doublement occupées correspond à votre attente pour la molécule que vous avez choisie."
   ]
  },
  {
   "cell_type": "code",
   "execution_count": null,
   "metadata": {},
   "outputs": [],
   "source": [
    "# ==> Compute static 1e- and 2e- quantities with Psi4 <==\n",
    "wfn = psi4.core.Wavefunction.build(mol, psi4.core.get_global_option('basis'))\n",
    "\n",
    "# nombre d'orbitales de spin alpha (doublement occupées pour les systèmes à couche fermée)\n",
    "ndocc = wfn.nalpha()\n",
    "nbf = wfn.basisset().nbf()\n",
    "\n",
    "print(F'Nombre d'orbitales occupées : {ndocc}')\n",
    "print(F'Nombre de fonctions de base: {nbf}') "
   ]
  },
  {
   "cell_type": "markdown",
   "metadata": {},
   "source": [
    "Ensuite, nous allons examiner le jeu de base des orbitales atomiques. Pour ce faire, nous devons mettre en place une structure de données, appelée classe, pour calculer les intégrales moléculaires. (Nous appellerons cette structure de données `mints` (Molecular INTegralS). Nous utilisons la fonction `ao_overlap` pour calculer les intégrales de recouvrement entre toutes les fonctions de base AO.  Nous mettons le résultat dans un tableau numpy appelé `S`. \n",
    "\n",
    "(A propos de la programmation Python : `asarray()` est un cas spécial de `array()` qui ne copie pas les tableaux lorsqu'il est compatible et qui convertit les sous-classes de tableaux en ndarrays de la classe de base. https://stackoverflow.com/questions/14415741/what-is-the-difference-between-numpys-array-and-asarray-functions)_ "
   ]
  },
  {
   "cell_type": "code",
   "execution_count": null,
   "metadata": {},
   "outputs": [],
   "source": [
    "# Construction d'un objet \"intégrales moléculaires\".\n",
    "mints = psi4.core.MintsHelper(wfn.basisset())\n",
    "\n",
    "# Matrice de recouvrement en tant qu'objet Matrice psi4\n",
    "S_matrix = mints.ao_overlap()\n",
    "\n",
    "# Matrice de recouvrement convertie en tableau np\n",
    "S = np.asarray(S_matrix) \n",
    "\n",
    "print(F'La forme de S est {S.shape}')"
   ]
  },
  {
   "cell_type": "markdown",
   "metadata": {},
   "source": [
    "#### Question : Expliquez la forme (nombre de lignes et de colonnes) de `S` en fonction de la base d'OA que nous avons choisie."
   ]
  },
  {
   "cell_type": "markdown",
   "metadata": {},
   "source": [
    "Examinons le contenu de `S`."
   ]
  },
  {
   "cell_type": "code",
   "execution_count": null,
   "metadata": {},
   "outputs": [],
   "source": [
    "print(S) #la matrice complète peut être quelque peu difficile à lire en fonction de la base"
   ]
  },
  {
   "cell_type": "code",
   "execution_count": null,
   "metadata": {},
   "outputs": [],
   "source": [
    "# Regardons les premiers éléments\n",
    "def peak(S,nrows=4,ncols=4):\n",
    "    print(F'Voici un aperçu des premiers éléments {nrows} x {ncols} de la matrice :\\n{S[:nrows,:ncols]}')\n",
    "    \n",
    "peak(S)"
   ]
  },
  {
   "cell_type": "markdown",
   "metadata": {},
   "source": [
    "#### Question :  En vous basant sur vos observations de `S` dans la base AO, répondez aux questions suivantes\n",
    "##### Qu'indiquent les éléments diagonaux de `S` ?\n",
    "##### Qu'indiquent les éléments hors diagonale de `S` ?\n",
    "##### Le jeu de base des orbitales atomiques gaussiennes forme-t-il une base orthonormée ? "
   ]
  },
  {
   "cell_type": "markdown",
   "metadata": {},
   "source": [
    "Nous pouvons également effectuer ce test à l'aide d'un programme, avec quelques astuces en Python. Construisez un tableau de la même taille que le tableau de recouvrement (`S`) qui a des 1 le long de la diagonale et des 0 partout ailleurs. Comparez ensuite ce tableau au tableau `S` pour déterminer si la base AO est orthonormée."
   ]
  },
  {
   "cell_type": "code",
   "execution_count": null,
   "metadata": {},
   "outputs": [],
   "source": [
    "# Exemple de test d'orthogonalité\n",
    "\n",
    "# on définit une fonction\n",
    "def isBasisOrthonormal(S):\n",
    "    # on récupère les lignes de S\n",
    "    size_S = S.shape[0] \n",
    "    \n",
    "    # On construit une matrice identité I \n",
    "    identity_matrix = np.eye(size_S) \n",
    "\n",
    "    # Tous les éléments de S sont-ils numériquement proches de la matrice d'identité ? \n",
    "    # Nous ne testons pas l'égalité car il peut y avoir de très petites différences numériques qui ne nous intéressent pas. \n",
    "    # numériques minimes dont nous ne nous soucions pas\n",
    "    orthonormal_check = np.allclose(S, identity_matrix)\n",
    "\n",
    "    print(F'Q:(T/F) La base d'OA est-elle orthonormée? A: {orthonormal_check}')\n",
    "    return orthonormal_check\n",
    "\n",
    "# use the function\n",
    "isBasisOrthonormal(S)"
   ]
  },
  {
   "cell_type": "markdown",
   "metadata": {},
   "source": [
    "#### Question : Le résultat est-il conforme à ce que vous avez déterminé ci-dessus ? Expliquez."
   ]
  },
  {
   "cell_type": "markdown",
   "metadata": {},
   "source": [
    "### VII. Une matrice d'orthogonalisation\n",
    "Rappelons que si nous avions utilisé les fonctions d'onde de l'atome d'hydrogène comme ensemble de base, les fonctions d'onde de l'AO seraient toutes orthonormées. Puisque nous avons utilisé un ensemble de base de fonctions gaussiennes, cela peut ne pas être le cas. Nous allons maintenant présenter quelques outils pour y remédier !\n",
    "\n",
    "Puisque notre ensemble de base AO n'était pas orthonormé, nous cherchons à construire une matrice d'orthogonalisation, $A$, telle que ${\\bf A}^{\\dagger}{\\bf SA} = {\\bf 1}$. \n",
    "\n",
    "**Motivation:** Si ${\\bf A}$ et ${\\bf S}$ étaient des nombres réels $a$ et $s$ (et non des matrices), cette question serait simple à résoudre. Tout d'abord, $a^\\dagger=a$ car un nombre réel est identique à sa transposition hermitienne. Par simple algèbre, nous pouvons résoudre a,\n",
    "\n",
    "$$a^\\dagger s a=1$$\n",
    "$$a^\\dagger s a=a s a=a^2s=1$$\n",
    "$$\\Rightarrow{}a=s^{-1/2}$$ \n",
    "\n",
    "En algèbre linéaire (avec des matrices au lieu de nombres), c'est plus compliqué, mais numpy et la classe mints peuvent s'occuper des détails pour nous ! En laissant de côté les détails, nous allons calculer\n",
    "\n",
    "$${\\bf A}={\\bf S}^{-1/2}$$.\n",
    "\n",
    "\n",
    "#### Calcul : \n",
    "Utilisez la fonction `np.linalg.inv()` pour calculer l'inverse de `S`, et la fonction `splinalg.sqrtm()` pour prendre sa racine carrée (matricielle). Exécutez le code ci-dessous et examinez la matrice `A`."
   ]
  },
  {
   "cell_type": "code",
   "execution_count": null,
   "metadata": {},
   "outputs": [],
   "source": [
    "# ==> Construire la matrice d'orthogonalisation AO <=>\n",
    "\n",
    "# inverse de S en utilisant np.linalg.inv\n",
    "# matrice racine carrée de l'inverse de S en utilisant splinalg.sqrtm\n",
    "\n",
    "A = #<entrer votre formule ici>\n",
    "\n",
    "peak(A)"
   ]
  },
  {
   "cell_type": "markdown",
   "metadata": {},
   "source": [
    "#### Question : Qu'observez-vous à propos des éléments de `A` ? La matrice est-elle réelle ou complexe ? La matrice est-elle symétrique ou non ?"
   ]
  },
  {
   "cell_type": "markdown",
   "metadata": {},
   "source": [
    "Notre base $B$ n'est pas orthonormée, nous voulons donc prendre des combinaisons linéaires de ses colonnes pour créer une nouvelle base, $B'$, qui est orthonormée. Nous définissons une nouvelle matrice, $A$, en fonction de cette transformation,\n",
    "\n",
    "$$B' = BA.$$\n",
    "\n",
    "La nouvelle matrice de recouvrement sera\n",
    "\n",
    "\\begin{align}\n",
    " S' &= B'^\\dagger B',\\\\\n",
    " &= (BA)^\\dagger (BA),\\\\\n",
    "&= A^\\dagger B^\\dagger BA,\\\\\n",
    "&= A^\\dagger S A.\n",
    "\\end{align}\n",
    "\n",
    "La matrice $A$ fait la combinaison linéaire propre des colonnes de $B$ et $A^\\dagger$ fait les combinaisons linéaires des lignes de $B^\\dagger$. Il s'agit d'une structure très courante des matrices de transformation. Puisque $S$ est réelle et symétrique, $A$ est également réelle et symétrique, donc $A^\\dagger=A$. La transformation devient simplement\n",
    "\n",
    "$$S' = A S A.$$"
   ]
  },
  {
   "cell_type": "markdown",
   "metadata": {},
   "source": [
    "#### Calcul\n",
    "Utilisez la matrice d'orthogonalisation `A` pour transformer la matrice de chevauchement, `S`. Vérifiez la matrice de recouvrement transformée, `S_p`, pour vous assurer qu'elle représente une basis orthonormale."
   ]
  },
  {
   "cell_type": "code",
   "execution_count": null,
   "metadata": {},
   "outputs": [],
   "source": [
    "# Transformer S avec A et affecter le résultat à S_p\n",
    "\n",
    "S_p = #<entrer votre formule ici>\n",
    "\n",
    "isBasisOrthonormal(S_p)"
   ]
  },
  {
   "cell_type": "markdown",
   "metadata": {},
   "source": [
    "#### Question : Le produit A S A ne prend pas la transposée conjuguée complexe de A. Quelles sont les conditions (propriétés de A) qui font que cela est correct ?"
   ]
  },
  {
   "cell_type": "markdown",
   "metadata": {},
   "source": [
    "## VIII. La matrice de Fock transformée en une base orthonormée\n",
    "\n",
    "Nous pouvons maintenant revenir à l'équation 2 en utilisant notre matrice d'orthogonalisation $A$. Une astuce courante en algèbre linéaire consiste à \"insérer un\". Dans ce cas, la matrice $A$ multipliée par son inverse est, par définition, la matrice identité, $AA^{-1}={\\bf1}$. Nous pouvons placer ce facteur \"un\" n'importe où dans une équation qui nous est utile, et, ensuite, typiquement nous regroupons les termes de la manière que nous voulons. Dans ce cas, nous en insérons un entre $FC$ et $SC$.\n",
    "\n",
    "\n",
    "\\begin{align}\n",
    "FC&=SCE\\\\\n",
    "F({\\bf1})C&=S({\\bf1})CE\\\\\n",
    "FAA^{-1}C&=SAA^{-1}CE\n",
    "\\end{align}\n",
    "\n",
    "En multipliant à gauche par $A$, on obtient alors\n",
    "\n",
    "$$\n",
    "AFAA^{-1}C=ASAA^{-1}CE\n",
    "$$\n",
    "\n",
    "Nous pouvons reconnaître la transformation $S'=ASA$ du côté droit et définir de manière similaire $F'=AFA$ du côté gauche. Enfin, nous définissons une matrice de coefficients transformée, $C'=A^{-1}C$. Notre équation de Fock transformée est la suivante\n",
    "\n",
    "\\begin{align}\n",
    "F'C'&=S'C'E,\\\\\n",
    "&=C'E.\n",
    "\\end{align}\n",
    "\n",
    "La dernière ligne suit parce que $S'={\\bf1}$ dans notre nouvelle base. Nous avons maintenant un problème de valeur propre que nous pouvons résoudre par diagonalisation de la matrice.\n",
    "\n",
    "Dans l'expression\n",
    "\n",
    "$$C'=A^{-1}C,$$\n",
    "\n",
    "la matrice $A^{-1}$ transforme les coefficients, $C$, dans l'ensemble de base orthogonalisé. Nous aurons également besoin d'un moyen de transformer ces coefficients, $C'$, pour les ramener dans la base AO originale.\n",
    "\n",
    "#### Question : En vous appuyant sur la définition de $C'$, proposez une définition de $C$ en fonction de $A$ et $C'$. Justifiez votre équation."
   ]
  },
  {
   "cell_type": "markdown",
   "metadata": {},
   "source": [
    "**Réponse:**"
   ]
  },
  {
   "cell_type": "markdown",
   "metadata": {},
   "source": [
    "## IX. \"Guess\" initial de la matrice de Fock est le hamiltonien à un électron.\n",
    "Pour obtenir la matrice de Fock, nous avons besoin de la matrice des coefficients, mais pour calculer la matrice des coefficients, nous avons besoin de la matrice de Fock.  Nous commençons donc par une estimation de la matrice de Fock, qui est la matrice hamiltonienne centrale."
   ]
  },
  {
   "cell_type": "code",
   "execution_count": null,
   "metadata": {},
   "outputs": [],
   "source": [
    "# Build core Hamiltonian\n",
    "T = np.asarray(mints.ao_kinetic())\n",
    "V = np.asarray(mints.ao_potential())\n",
    "H = T + V"
   ]
  },
  {
   "cell_type": "markdown",
   "metadata": {},
   "source": [
    "#### Calcul : \n",
    "Dans la cellule ci-dessous, utilisez la matrice Hamiltonienne de base comme estimation initiale pour la matrice de Fock. Transformez-la avec la même matrice A que vous avez utilisée ci-dessus.  Pour calculer les valeurs propres, `vals`, et les vecteurs propres, `vecs`, de la matrice `M` en utilisant `vals, vecs = np.linalg.eigh(M)`."
   ]
  },
  {
   "cell_type": "code",
   "execution_count": null,
   "metadata": {},
   "outputs": [],
   "source": [
    "# Guess de la matrice de Fock\n",
    "\n",
    "# Matrice de Fock transformée, F_p\n",
    "\n",
    "# Diagonalisation de F_p pour les valeurs propres et les vecteurs propres avec NumPy\n"
   ]
  },
  {
   "cell_type": "markdown",
   "metadata": {},
   "source": [
    "#### Calcul :\n",
    "Affichez, c'est à dire, `imprimez`, la matrice des coefficients et confirmez qu'elle a la bonne taille"
   ]
  },
  {
   "cell_type": "markdown",
   "metadata": {},
   "source": [
    "Maintenant que nous avons les coefficients dans la base transformée, nous devons revenir en arrière et obtenir les coefficients dans la base AO originale.\n",
    "\n",
    "#### Calcul : \n",
    "Utilisez `A` et la formule que vous avez proposée précédemment pour retransformer la matrice des coefficients dans la base AO. Confirmez que la matrice résultante semble raisonnable, c'est-à-dire de taille et d'amplitude similaires."
   ]
  },
  {
   "cell_type": "code",
   "execution_count": null,
   "metadata": {},
   "outputs": [],
   "source": [
    "# Transform the coefficient matrix back into AO basis\n"
   ]
  },
  {
   "cell_type": "markdown",
   "metadata": {},
   "source": [
    "### X. The Density Matrix\n",
    "Recall, the Fock matrix is \n",
    "\n",
    "$$\n",
    "F = H + 2J - K\n",
    "$$\n",
    "where $H$ is the one electron \"core\" Hamiltonian, $J$ is the Coulomb integral matrix, and $K$ is the exchange integral matrix. The HF energy can be expressed in explicit terms of one and two electron integrals\n",
    "$$\n",
    "E_{HF} = \\sum_i^{elec}\\langle i|h_i|i\\rangle + \\sum_{i>j}^{elec}[ii|jj]-[ij|ji]\n",
    "$$\n",
    "Expanding the orbitals in terms of basis functions, we find\n",
    "$$\n",
    "[ii|jj]=\\sum_{pqrs}c^*_{pi}c_{qi}c^*_{rj}c_{sj}\\int{\\rm d}\\tau\\; \\phi_p^*(1)\\phi_q(1)\\frac{1}{r_{ij}}\\phi_r^*(2)\\phi_s(2)\\qquad{\\text{(3)}}\n",
    "$$"
   ]
  },
  {
   "cell_type": "markdown",
   "metadata": {},
   "source": [
    "\n",
    "First, look at the coefficients in Eq.3. They come in two pairs of complex-conjugates, $c^*_{pi}c_{qi}$ and $c^*_{ri}c_{si}$. The diagonal terms, when $p=q$ for example, are the probability of some basis function $p$ contributing to the MO $i$. We will sum each term over the occupied orbitals, $i$, to form the \"density matrix\"\n",
    "$$\n",
    "D_{pq}=\\sum_i^{occ} c^*_{pi}c_{qi}.\n",
    "$$\n",
    "\n",
    "We are going to construct the density matrix from the occupied orbitals.  To get a matrix of just the occupied orbitals, use the coefficient matrix in the original AO basis, and take a slice to include all rows and just the columns that represent the occupied orbitals."
   ]
  },
  {
   "cell_type": "code",
   "execution_count": null,
   "metadata": {
    "scrolled": true
   },
   "outputs": [],
   "source": [
    "# Grab occupied orbitals (recall: ndocc is the number of doubly occupied orbitals we found earlier)\n",
    "C_occ = C[:, :ndocc]\n",
    "print(F'The shape of C_occ is {C_occ.shape}')"
   ]
  },
  {
   "cell_type": "markdown",
   "metadata": {},
   "source": [
    "#### Calculate: Build the density matrix, `D`, from the occupied orbitals, `C_occ`, using the function `np.einsum()`. (Recall Section VI.)"
   ]
  },
  {
   "cell_type": "code",
   "execution_count": null,
   "metadata": {},
   "outputs": [],
   "source": [
    "# Build density matrix from occupied orbitals\n",
    "\n",
    "D = #<your equation here>\n",
    "\n",
    "print(F'The shape of D is {D.shape}')"
   ]
  },
  {
   "cell_type": "markdown",
   "metadata": {},
   "source": [
    "### XII. Coulomb and Exchange Integrals and the SCF Energy\n",
    "\n",
    "The integral on the right of Eq.3 is super important. It has four indicies, $p,q,r,s$, so formally it is a tensor. It accounts for the repulsion between pairs of electrons, so it is called the electron repulsion integral tensor, $I$,\n",
    "$$\n",
    "I_{pqrs} = \\int{\\rm d}\\tau\\; \\phi_p^*(1)\\phi_q(1)\\frac{1}{r_{ij}}\\phi_r^*(2)\\phi_s(2).\n",
    "$$\n",
    "First, we can build the electron-repulsion integral (ERI) tensor, which stores the electron repulsion between the atomic orbital wavefunctions. Mints does all the work for us!"
   ]
  },
  {
   "cell_type": "code",
   "execution_count": null,
   "metadata": {},
   "outputs": [],
   "source": [
    "# Build electron repulsion integral (ERI) Tensor\n",
    "I = np.asarray(mints.ao_eri())"
   ]
  },
  {
   "cell_type": "markdown",
   "metadata": {},
   "source": [
    "Eq.3 can be expressed in terms of $I$ and $D$ as\n",
    "\\begin{align}\n",
    "[ii|jj] &= \\sum_{pqrs}D_{pq}D_{rs}I_{pqrs},\\\\\n",
    "&=\\sum_{pq}D_{pq}\\sum_{rs}D_{rs}I_{pqrs}.\n",
    "\\end{align}\n",
    "The term $\\sum_{rs}D_{rs}I_{pqrs}$ is the effective repulsion felt by one electron due to the other electrons in the system. This term is the Coulomb integral matrix\n",
    "$$\n",
    "J_{pq}=\\sum_{rs}D_{rs}I_{pqrs}.\n",
    "$$"
   ]
  },
  {
   "cell_type": "markdown",
   "metadata": {},
   "source": [
    "#### Calculate: Define J  in terms of the density matrix, `D`, and the electron repulsion integral tensor, `I`, using `np.einsum()`."
   ]
  },
  {
   "cell_type": "code",
   "execution_count": null,
   "metadata": {},
   "outputs": [],
   "source": [
    "#Define J"
   ]
  },
  {
   "cell_type": "markdown",
   "metadata": {},
   "source": [
    "Similarly, \n",
    "\\begin{align}\n",
    "[ij|ji] &= \\sum_{pqrs}D_{ps}D_{rq}I_{pqrs},\\\\\n",
    " &= \\sum_{ps}D_{ps}\\sum_{rq}D_{rq}I_{pqrs}.\n",
    "\\end{align}\n",
    "corrects the repulsion due to electrons \"avoiding each other\" due to their Fermionic (antisymmetric w.r.t. exchange) character. This term is the exchange integral matrix\n",
    "$$\n",
    "K_{ps}=\\sum_{rq}D_{rq}I_{pqrs}.\n",
    "$$"
   ]
  },
  {
   "cell_type": "markdown",
   "metadata": {},
   "source": [
    "#### Calculate: Define K  in terms of the density matrix, `D`, and the electron repulsion integral tensor, `I`, using `einsum()`. "
   ]
  },
  {
   "cell_type": "code",
   "execution_count": null,
   "metadata": {},
   "outputs": [],
   "source": [
    "#Define K"
   ]
  },
  {
   "cell_type": "markdown",
   "metadata": {},
   "source": [
    "#### Calculate: Define F in terms of H, J, and K. (Recall Section XI.)"
   ]
  },
  {
   "cell_type": "code",
   "execution_count": null,
   "metadata": {},
   "outputs": [],
   "source": [
    "#Define F as a function of H, J, and K"
   ]
  },
  {
   "cell_type": "markdown",
   "metadata": {},
   "source": [
    "A more convenient form of the SCF energy is in terms of a sum over the AO basis functions\n",
    "$$\n",
    "E =  E_{nuc} + \\sum_{pq}(H_{pq} + F_{pq})D_{pq},\n",
    "$$\n",
    "where $E_{nuc}$ is the nuclear repulsion, which psi4 can calculate for us as well."
   ]
  },
  {
   "cell_type": "markdown",
   "metadata": {},
   "source": [
    "#### Calculate: SCF energy based on H, F, and D using `np.einsum()`. \n",
    "*(Hint: The right hand side of the equation is the sum of the product of two terms, each of which has two indices (p and q). The result, E, is a number, so it has no indices. In `einsum()` notation, this case will be represented with the indices for the matrices on the left of the `->`, and no index on the right of the `->`. For example, in the case of just one matrix, the sum of all its elements of a matrix `M` is `sum_of_m = np.einsum('pq->',M )`. In your answer below, be sure to account for any modifications required of an element-wise product of two matrices.)* "
   ]
  },
  {
   "cell_type": "code",
   "execution_count": null,
   "metadata": {},
   "outputs": [],
   "source": [
    "E_nuc = mol.nuclear_repulsion_energy()\n",
    "SCF_E = #<your formula here>\n",
    "print(F'Energy = {SCF_E:.8f}')"
   ]
  },
  {
   "cell_type": "markdown",
   "metadata": {},
   "source": [
    "#### Question: Based on the result of the calculation in Section VII, is this a reasonable answer? "
   ]
  },
  {
   "cell_type": "markdown",
   "metadata": {},
   "source": [
    "**Answer:** "
   ]
  },
  {
   "cell_type": "markdown",
   "metadata": {},
   "source": [
    "#### Question: Describe a procedure (i.e. identify the steps/commands) that will updated coefficients and compute a new density matrix based on the new definition of the Fock matrix. (Recall Section X)"
   ]
  },
  {
   "cell_type": "markdown",
   "metadata": {},
   "source": [
    "**Answer** "
   ]
  },
  {
   "cell_type": "markdown",
   "metadata": {},
   "source": [
    "#### Calculate: Using the procedure proposed above, calculate the updated coefficients"
   ]
  },
  {
   "cell_type": "code",
   "execution_count": null,
   "metadata": {},
   "outputs": [],
   "source": [
    "# Update density matrix"
   ]
  },
  {
   "cell_type": "markdown",
   "metadata": {},
   "source": [
    "You have just completed one cycle of the SCF calculation!\n",
    "\n",
    "\n",
    "Now we will use the density matrix to build the Fock matrix.  The code block below sets up a skeleton of the Hartree-Fock procedure.  The basic steps are:\n",
    "1. Calculate the Fock Matrix based on the density matrix previously defined from a one electron hamiltonian\n",
    "2. Calculate the energy from the Fock matrix.\n",
    "3. Check and see if the energy has converged by comparing the current energy to the previous energy and seeing if it is within the convergence threshold.\n",
    "4. If the energy has not converged, transform the Fock matrix, and diagonalize the transformed Fock matrix to get the energy and MO coefficients.  Then transform back to the original AO basis, pull the occupied orbitals, and reconstruct the density matrix. "
   ]
  },
  {
   "cell_type": "code",
   "execution_count": null,
   "metadata": {
    "scrolled": true
   },
   "outputs": [],
   "source": [
    "# ==> Nuclear Repulsion Energy <==\n",
    "E_nuc = mol.nuclear_repulsion_energy()\n",
    "\n",
    "# ==> SCF Iterations <==\n",
    "# Pre-iteration energy declarations\n",
    "SCF_E = 0.0\n",
    "E_old = 0.0\n",
    "\n",
    "# ==> Set default program options <==\n",
    "# We continue recalculating the energy until it converges to the level we specify.  \n",
    "# The varible `E_conv` is where we set this level of convergence.  We also set a \n",
    "# maximum number of iterations so that if our calculation does not converge, it \n",
    "# eventually stops and lets us know that it did not converge.  \n",
    "# Maximum SCF iterations\n",
    "MAXITER = 40\n",
    "# Energy convergence criterion\n",
    "E_conv = 1.0e-6\n",
    "\n",
    "print('==> Starting SCF Iterations <==\\n')\n",
    "\n",
    "# Begin Iterations\n",
    "for scf_iter in range(1, MAXITER + 1):\n",
    "    \n",
    "    # Build Fock matrix (Section XII)\n",
    "    \n",
    "    # <your code here>\n",
    "\n",
    "    # Compute SCF energy\n",
    "    \n",
    "    SCF_E = #<your formula here>\n",
    "    \n",
    "    print(F'SCF Iteration {scf_iter}: Energy = {SCF_E:.8f} dE = {SCF_E - E_old:.8f}')\n",
    "    \n",
    "    # Check to see if the energy is converged.  If it is break out of the loop.\n",
    "    # If it is not, set the current energy E_old\n",
    "    \n",
    "    if (abs(SCF_E - E_old) < E_conv):\n",
    "        break\n",
    "    E_old = SCF_E\n",
    "    \n",
    "    # Compute new coefficient & density matrices (Section X & XI) \n",
    "    \n",
    "    # <your code here>  \n",
    "    \n",
    "    # MAXITER exceeded?\n",
    "    if (scf_iter == MAXITER):\n",
    "        psi4.core.clean()\n",
    "        raise Exception(\"Maximum number of SCF iterations exceeded.\")\n",
    "\n",
    "# Post iterations\n",
    "print('\\nSCF converged.')\n",
    "print(F'Final RHF Energy: {SCF_E:.6f} [Eh]')"
   ]
  },
  {
   "cell_type": "markdown",
   "metadata": {},
   "source": [
    "Compare your results to Psi4 by computing the energy using `psi4.energy()` in the cell below.  "
   ]
  },
  {
   "cell_type": "code",
   "execution_count": null,
   "metadata": {
    "scrolled": true
   },
   "outputs": [],
   "source": [
    "# ==> Compare our SCF to Psi4 <==\n",
    "# Call psi4.energy() to compute the SCF energy\n",
    "SCF_E_psi = psi4.energy('SCF')\n",
    "psi4.core.clean()\n",
    "\n",
    "# Compare our energy value to what Psi4 computes\n",
    "assert psi4.compare_values(SCF_E_psi, SCF_E, 6, 'My SCF Procedure')"
   ]
  },
  {
   "cell_type": "markdown",
   "metadata": {},
   "source": [
    "#### Question: Modify the value of E_conv and describe its affect the number of iterations."
   ]
  },
  {
   "cell_type": "markdown",
   "metadata": {},
   "source": [
    "### XIII. Using Hartree-Fock to Justify Molecular Structure\n",
    "\n",
    "Why is CO$_2$ linear? Why is H$_2$O bent? Why is CH$_4$ tetrahedral? Why is FeF$_6$ octahedral? In general\n",
    "chemistry, we used valence shell electron pair repulsion (VSEPR) theory to justify molecular structures\n",
    "by invoking a _repulsion_ between both bonding and non-bonding pairs of electrons.  The reality of molecular\n",
    "structure is more complicated, however.\n",
    "\n",
    "In this section of the lab, we will use the same Hartree-Fock method that we implemented above to justify the\n",
    "bent structure of water by computing the electronic energy of H$_2$O at a variety of bond angles.  \n"
   ]
  },
  {
   "cell_type": "code",
   "execution_count": null,
   "metadata": {},
   "outputs": [],
   "source": [
    "# ==> Scanning a Bond Angle: Flexible Water <==\n",
    "# Import a library to visualize energy profile\n",
    "import matplotlib.pyplot as plt\n",
    "%matplotlib inline\n",
    "\n",
    "# Define flexible water molecule using Z-matrix\n",
    "flexible_water = \"\"\"\n",
    "O\n",
    "H 1 0.96\n",
    "H 1 0.96 2 {}\n",
    "\"\"\"\n",
    "\n",
    "# Scan over bond angle range between 90 & 180, in 5 degree increments\n",
    "scan = {}\n",
    "for angle in range(90, 181, 5):\n",
    "    # Make molecule\n",
    "    mol = psi4.geometry(flexible_water.format(angle))\n",
    "    # Call Psi4\n",
    "    e = psi4.energy('scf/cc-pvdz', molecule=mol)\n",
    "    #e = psi4.energy('scf/sto-3g', molecule=mol)\n",
    "\n",
    "    # Save energy in dictionary\n",
    "    scan[angle] = e"
   ]
  },
  {
   "cell_type": "markdown",
   "metadata": {},
   "source": [
    "# Visualize energy profile\n",
    "x = list(scan.keys())\n",
    "y = list(scan.values())\n",
    "plt.plot(x,y,'ro-')\n",
    "plt.xlabel('H-O-H Bond Angle ($^{\\circ}$)')\n",
    "plt.ylabel('Molecular Energy ($E_h$)')\n",
    "plt.show()"
   ]
  },
  {
   "cell_type": "markdown",
   "metadata": {},
   "source": [
    "Using the energy profile we generated above, justify the experimentally measured water bond angle of 104.5$^{\\circ}$ in the cell below."
   ]
  },
  {
   "cell_type": "markdown",
   "metadata": {},
   "source": [
    "**Answer**"
   ]
  }
 ],
 "metadata": {
  "kernelspec": {
   "display_name": "Python 3 (ipykernel)",
   "language": "python",
   "name": "python3"
  },
  "language_info": {
   "codemirror_mode": {
    "name": "ipython",
    "version": 3
   },
   "file_extension": ".py",
   "mimetype": "text/x-python",
   "name": "python",
   "nbconvert_exporter": "python",
   "pygments_lexer": "ipython3",
   "version": "3.11.9"
  },
  "latex_envs": {
   "LaTeX_envs_menu_present": true,
   "autoclose": false,
   "autocomplete": true,
   "bibliofile": "biblio.bib",
   "cite_by": "apalike",
   "current_citInitial": 1,
   "eqLabelWithNumbers": true,
   "eqNumInitial": 1,
   "hotkeys": {
    "equation": "Ctrl-E",
    "itemize": "Ctrl-I"
   },
   "labels_anchors": false,
   "latex_user_defs": false,
   "report_style_numbering": true,
   "user_envs_cfg": true
  }
 },
 "nbformat": 4,
 "nbformat_minor": 2
}
