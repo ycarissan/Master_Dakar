{
 "cells": [
  {
   "cell_type": "markdown",
   "id": "1a18a75a",
   "metadata": {},
   "source": [
    "# Rendez-vous à la ligne qui indique le début du TP"
   ]
  },
  {
   "cell_type": "code",
   "execution_count": 1,
   "id": "721df9b2",
   "metadata": {
    "code_folding": []
   },
   "outputs": [],
   "source": [
    "%%capture\n",
    "!pip install rdkit"
   ]
  },
  {
   "cell_type": "code",
   "execution_count": 2,
   "id": "b0fd22a2",
   "metadata": {
    "code_folding": []
   },
   "outputs": [],
   "source": [
    "%%capture\n",
    "from jupyter_jsmol import JsmolView\n",
    "Energies = {}"
   ]
  },
  {
   "cell_type": "markdown",
   "id": "09131cf9",
   "metadata": {},
   "source": [
    "# Début du TP HuLiS\n",
    "\n",
    "<div style=\"background-color:pink;\n",
    "            padding: 5px;\n",
    "border-radius: 5px 5px 5px;\n",
    "border: 0px solid red;\n",
    "padding-left: 25px;\n",
    "position:relative;font-size: 18px;\">\n",
    "    Toutes les questions auxquelles vous devez répondre sont encadrées comme ceci.\n",
    "    </div> <br>\n",
    "<div style=\"background-color:lavender;\n",
    "            padding: 5px;\n",
    "border-radius: 5px 5px 5px;\n",
    "border: 3px solid DodgerBlue;\n",
    "padding-left: 25px;\n",
    "position:relative;font-size: 18px;\">\n",
    "Entrez vos noms dans le tableau ci-dessous:\n",
    "    </div>"
   ]
  },
  {
   "cell_type": "raw",
   "id": "52c58c95",
   "metadata": {},
   "source": [
    "Nom:\n",
    "Prénom:\n",
    "\n",
    "Nom:\n",
    "Prénom:"
   ]
  },
  {
   "cell_type": "markdown",
   "id": "cb38bfe7",
   "metadata": {},
   "source": [
    "# Résumé\n",
    "Dans le cadre de ce TP, nous allons déterminer par la méthode de Hückel l'aromaticité de molécules simples grâce au logiciel HuLiS (mais tout autre logiciel Hückel ferait l'affaire). <a href=\"https://amupod.univ-amu.fr/video/0208-huckel-exemple-du-butadiene/\">Tutoriel rapide de Hulis</a>\n",
    "# Introduction\n",
    "L'aromaticité est un concept utilisé en chimie qui historiquement est basé sur des considérations énergétiques: un système aromatique est plus stable que son homologue non aromatique. L'aromaticité apparait dans des systèmes cycliques (mais tous les systèmes cycliques ne sont pas aromatiques). Dans sa version la plus simple, on parle d'aromaticité pour les électrons $\\pi$.\n",
    "Dans le cadre de ce TP, nous considèrerons des systèmes $\\pi$ (c'est-à-dire faits de carbones $sp^2$ et d'hydrogènes) cycliques ou non, nous déterminerons s'ils sont aromatiques, non aromatiques ou antiaromatiques (c'est-à-dire plus instables qu'ils ne devraient l'être).\n",
    "Il convient de bien faire la différence entre l'aromaticité et la délocalisation électronique. Ainsi, nous débuterons par caractériser le gain énergétique due à la délocalisation\n",
    "# Rappels sur la méthode de Hückel\n",
    "## $\\alpha$ et $\\beta$\n",
    "La méthode de Hückel est basée sur la connectivité des atomes de carbones uniquement (il existe une version prenant en compte les hétéroatomes que nous n'aborderons pas ici). On ne prend pas en compte les hydrogènes et on ne considère que les électrons $p$ des carbones. Dans les molécules, ces électrons occupent les orbitrales $\\pi$ obtenues par combinaison des orbitales $2p_z$ des carbones $sp^2$.\n",
    "L'énergie des orbiales $2p_z$ des atomes de carbone est appelée $\\alpha$.\n",
    "Lorsque deux orbitales $2p_z$ de deux carbones adjacents interagissent, le gain énergétique dû à cette interaction est appelé $\\beta$. Par convention, comme c'est un gain énergétique, __la valeur de $\\beta$ est négative__. Ainsi, les orbitales de l'éthylène sont aux énergies $\\alpha+\\beta$ pour l'orbitale liante et $\\alpha-\\beta$ pour l'orbitale antiliante.\n",
    "## L'éthylène\n",
    "# Aromaticité du benzene\n",
    "## Énergie $\\pi$ totale du benzene\n",
    "![Le benzene](img/benzene.png)"
   ]
  },
  {
   "cell_type": "markdown",
   "id": "aca38e53",
   "metadata": {},
   "source": [
    "En utilisant l'application HuLiS sur le site www.hulis.free.fr, calculez l'énergie totale $\\pi$ du benzène, C$_6$H$_6$.\n",
    "## Énergie $\\pi$ totale de l'hexatriène\n",
    "En utilisant l'application HuLiS sur le site www.hulis.free.fr, calculez l'énergie de l'hexatriène, C$_6$H$_8$, qui est un système non cyclique à six carbones. Nous le considèrerons comme le système non cyclique de référence par rapport au benzène.\n",
    "## Énergie de délocalisation de l'hexatriène\n",
    "Pour déterminer l'énergie de délocalisation de l'hexatriène, nous allons comparer son énergie totale $\\pi$ à celle d'un système ayant le même nombre d'électrons $\\pi$ non délocalisés. Pour cela, nous considèrerons trois molécules d'éthylène."
   ]
  },
  {
   "cell_type": "markdown",
   "id": "8dfba9de",
   "metadata": {},
   "source": [
    "<div style=\"background-color:lavender;\n",
    "            padding: 5px;\n",
    "border-radius: 5px 5px 5px;\n",
    "border: 3px solid DodgerBlue;\n",
    "padding-left: 25px;\n",
    "position:relative;font-size: 18px;\">\n",
    "À partir des valeurs calculées précédemment, calculer les énergies de résonance de l'hexatriène du benzène, ainsi que l'énergie d'aromaticité du benzène en unité $\\beta$.\n",
    "    </div>"
   ]
  },
  {
   "cell_type": "code",
   "execution_count": 3,
   "id": "5fb5f4f2",
   "metadata": {},
   "outputs": [
    {
     "data": {
      "text/plain": [
       "{'ethylene': 0,\n",
       " 'hexatriene': 0,\n",
       " 'benzene': 0,\n",
       " 'deloc hexatriene': 0,\n",
       " 'aromaticite benzene': 0}"
      ]
     },
     "metadata": {},
     "output_type": "display_data"
    }
   ],
   "source": [
    "#Les énergies sont en unite beta\n",
    "Energies[\"ethylene\"] = 0\n",
    "Energies[\"hexatriene\"] = 0\n",
    "Energies[\"benzene\"] = 0\n",
    "Energies[\"deloc hexatriene\"] = 0\n",
    "Energies[\"aromaticite benzene\"] = 0\n",
    "display(Energies)"
   ]
  },
  {
   "cell_type": "markdown",
   "id": "1cea4de9",
   "metadata": {},
   "source": [
    "<div style=\"background-color:lavender;\n",
    "            padding: 5px;\n",
    "border-radius: 5px 5px 5px;\n",
    "border: 3px solid DodgerBlue;\n",
    "padding-left: 25px;\n",
    "position:relative;font-size: 18px;\">\n",
    "Pourquoi les valeurs de $\\alpha$ ne sont-elles pas considérées dans les calculs d'énergie de résonance et d'aromaticité?\n",
    "    <br><br>Tapez votre réponse dans le cadre ci-dessous.\n",
    "    </div>"
   ]
  },
  {
   "cell_type": "markdown",
   "id": "37edf731",
   "metadata": {},
   "source": [
    "TAPER VOTRE REPONSE ICI"
   ]
  },
  {
   "attachments": {
    "aromatiques_ou_non.png": {
     "image/png": "[encoded data removed]"
    }
   },
   "cell_type": "markdown",
   "id": "6eb8577f",
   "metadata": {},
   "source": [
    "## Énergies de résonance et d'aromaticité d'autres molécules\n",
    "On se propose de travailler sur le jeu de molécules suivant:\n",
    "![aromatiques_ou_non.png](attachment:aromatiques_ou_non.png)"
   ]
  },
  {
   "cell_type": "markdown",
   "id": "3e3f7cdc",
   "metadata": {},
   "source": [
    "<div style=\"background-color:lavender;\n",
    "            padding: 5px;\n",
    "border-radius: 5px 5px 5px;\n",
    "border: 3px solid DodgerBlue;\n",
    "padding-left: 25px;\n",
    "position:relative;font-size: 18px;\">\n",
    "Ces molécules n'ont pas toutes le même nombre d'électrons $\\pi$. Déterminer les molécules non cycliques de référence pour les systèmes à 4 et 8 électrons $\\pi$ (comme l'hexatriène l'est pour les sytèmes à 6 électrons $\\pi$) et calculer leurs énergies totales:\n",
    "</div>"
   ]
  },
  {
   "cell_type": "raw",
   "id": "33234f08",
   "metadata": {},
   "source": [
    "Nom des molécules de référence:\n",
    "Référence des molécules à 4 électrons :     \n",
    "Référence des molécules à 6 électrons :     \n",
    "Référence des molécules à 8 électrons :     "
   ]
  },
  {
   "cell_type": "code",
   "execution_count": 4,
   "id": "cb2e82b7",
   "metadata": {},
   "outputs": [],
   "source": [
    "Energies[\"Ref 4e\"] = 0\n",
    "Energies[\"Ref 6e\"] = 0\n",
    "Energies[\"Ref 8e\"] = 0"
   ]
  },
  {
   "cell_type": "markdown",
   "id": "b3e8cfd4",
   "metadata": {},
   "source": [
    "<div style=\"background-color:lavender;\n",
    "            padding: 5px;\n",
    "border-radius: 5px 5px 5px;\n",
    "border: 3px solid DodgerBlue;\n",
    "padding-left: 25px;\n",
    "position:relative;font-size: 18px;\">\n",
    "À partir du calcul des énergies totales de ces molécules, déterminer, lorsque c'est possible, leurs énergies de résonance et d'aromaticité.\n",
    "<br><br>Remplir le tableau ci-dessous. (Si l'énergie d'aromaticité n'est pas pertinente, ne pas mettre de valeur dans la case correspondante.)\n",
    "</div>"
   ]
  },
  {
   "cell_type": "code",
   "execution_count": 5,
   "id": "75c1f52b",
   "metadata": {},
   "outputs": [
    {
     "data": {
      "text/plain": [
       "{'ethylene': 0,\n",
       " 'hexatriene': 0,\n",
       " 'benzene': 0,\n",
       " 'deloc hexatriene': 0,\n",
       " 'aromaticite benzene': 0,\n",
       " 'Ref 4e': 0,\n",
       " 'Ref 6e': 0,\n",
       " 'Ref 8e': 0,\n",
       " 'Resonance molecule 1': 0,\n",
       " 'Resonance molecule 2': 0,\n",
       " 'Resonance molecule 3': 0,\n",
       " 'Resonance molecule 4': 0,\n",
       " 'Resonance molecule 5': 0,\n",
       " 'Resonance molecule 6': 0,\n",
       " 'Resonance molecule 7': 0,\n",
       " 'Aromaticite molecule 1': 0,\n",
       " 'Aromaticite molecule 2': 0,\n",
       " 'Aromaticite molecule 3': 0,\n",
       " 'Aromaticite molecule 4': 0,\n",
       " 'Aromaticite molecule 5': 0,\n",
       " 'Aromaticite molecule 6': 0,\n",
       " 'Aromaticite molecule 7': 0}"
      ]
     },
     "metadata": {},
     "output_type": "display_data"
    }
   ],
   "source": [
    "Energies[\"Resonance molecule 1\"] = 0\n",
    "Energies[\"Resonance molecule 2\"] = 0\n",
    "Energies[\"Resonance molecule 3\"] = 0\n",
    "Energies[\"Resonance molecule 4\"] = 0\n",
    "Energies[\"Resonance molecule 5\"] = 0\n",
    "Energies[\"Resonance molecule 6\"] = 0\n",
    "Energies[\"Resonance molecule 7\"] = 0\n",
    "\n",
    "Energies[\"Aromaticite molecule 1\"] = 0\n",
    "Energies[\"Aromaticite molecule 2\"] = 0\n",
    "Energies[\"Aromaticite molecule 3\"] = 0\n",
    "Energies[\"Aromaticite molecule 4\"] = 0\n",
    "Energies[\"Aromaticite molecule 5\"] = 0\n",
    "Energies[\"Aromaticite molecule 6\"] = 0\n",
    "Energies[\"Aromaticite molecule 7\"] = 0\n",
    "display(Energies)"
   ]
  },
  {
   "cell_type": "markdown",
   "id": "6bf13604",
   "metadata": {},
   "source": [
    "### Analyse des résultats\n",
    "#### Cyclobutadiène\n",
    "<div style=\"background-color:lavender;\n",
    "            padding: 5px;\n",
    "border-radius: 5px 5px 5px;\n",
    "border: 3px solid DodgerBlue;\n",
    "padding-left: 25px;\n",
    "position:relative;font-size: 18px;\">\n",
    "D'après vos calculs, le cyclobutadiène est-il stabilisé par résonance? Est-il aromatique ou antiaromatique? Faire une analyse de ces deux orbitales moléculaires les plus hautes occupées.  \n",
    "    <br><br>Tapez votre réponse dans le cadre ci-dessous.\n",
    "    </div>\n"
   ]
  },
  {
   "cell_type": "markdown",
   "id": "0e7656e1",
   "metadata": {},
   "source": [
    "TAPER VOTRE REPONSE ICI"
   ]
  },
  {
   "cell_type": "markdown",
   "id": "8affd640",
   "metadata": {},
   "source": [
    " \n",
    "#### Cyclooctatétraène\n",
    "On remarque que l'énergie d'aromaticité du cyclooctatétraène (7) est stabilisante. Or, le cyclooctatétraène est connu pour ne pas être aromatique. Pour résoudre ce dilemne, il faut analyser plus les orbitales les plus hautes occupées du cyclooctatétraène."
   ]
  },
  {
   "cell_type": "markdown",
   "id": "388382ac",
   "metadata": {},
   "source": [
    "<div style=\"background-color:lavender;\n",
    "            padding: 5px;\n",
    "border-radius: 5px 5px 5px;\n",
    "border: 3px solid DodgerBlue;\n",
    "padding-left: 25px;\n",
    "position:relative;font-size: 18px;\">\n",
    "Que déduisez-vous de votre analyse des orbitales les plus hautes occupées du cycloctatétraène?\n",
    "    <br><br>Tapez votre réponse dans le cadre ci-dessous.\n",
    "    </div>"
   ]
  },
  {
   "cell_type": "markdown",
   "id": "f7887549",
   "metadata": {},
   "source": [
    "TAPER VOTRE REPONSE ICI"
   ]
  },
  {
   "cell_type": "markdown",
   "id": "d222e8a9",
   "metadata": {},
   "source": [
    "<div style=\"background-color:lavender;\n",
    "            padding: 5px;\n",
    "border-radius: 5px 5px 5px;\n",
    "border: 3px solid DodgerBlue;\n",
    "padding-left: 25px;\n",
    "position:relative;font-size: 18px;\">\n",
    "Parmi les molécules dont vous avez pu calculer l'énergie d'aromaticité, laquelle est la plus aromatique?\n",
    "Et la plus antiaromatique?\n",
    "<br><br>Remplir le tableau ci-dessous (Nom de la molécule dans la colonne B).\n",
    "</div>"
   ]
  },
  {
   "cell_type": "raw",
   "id": "a85bc43f",
   "metadata": {},
   "source": [
    "Molécule la plus aromatique :\n",
    "Molécule la moins aromatique :"
   ]
  }
 ],
 "metadata": {
  "kernelspec": {
   "display_name": "Python 3 (ipykernel)",
   "language": "python",
   "name": "python3"
  },
  "language_info": {
   "codemirror_mode": {
    "name": "ipython",
    "version": 3
   },
   "file_extension": ".py",
   "mimetype": "text/x-python",
   "name": "python",
   "nbconvert_exporter": "python",
   "pygments_lexer": "ipython3",
   "version": "3.9.7"
  }
 },
 "nbformat": 4,
 "nbformat_minor": 5
}
